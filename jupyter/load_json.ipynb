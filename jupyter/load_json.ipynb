{
 "cells": [
  {
   "cell_type": "code",
   "execution_count": 1,
   "metadata": {},
   "outputs": [],
   "source": [
    "import pickle\n",
    "import json\n",
    "import pandas as pd"
   ]
  },
  {
   "cell_type": "code",
   "execution_count": 61,
   "metadata": {},
   "outputs": [
    {
     "data": {
      "text/html": [
       "<div>\n",
       "<style scoped>\n",
       "    .dataframe tbody tr th:only-of-type {\n",
       "        vertical-align: middle;\n",
       "    }\n",
       "\n",
       "    .dataframe tbody tr th {\n",
       "        vertical-align: top;\n",
       "    }\n",
       "\n",
       "    .dataframe thead th {\n",
       "        text-align: right;\n",
       "    }\n",
       "</style>\n",
       "<table border=\"1\" class=\"dataframe\">\n",
       "  <thead>\n",
       "    <tr style=\"text-align: right;\">\n",
       "      <th></th>\n",
       "      <th>alcohol</th>\n",
       "      <th>chlorides</th>\n",
       "      <th>citric acid</th>\n",
       "      <th>density</th>\n",
       "      <th>fixed acidity</th>\n",
       "      <th>free sulfur dioxide</th>\n",
       "      <th>pH</th>\n",
       "      <th>residual sugar</th>\n",
       "      <th>sulphates</th>\n",
       "      <th>total sulfur dioxide</th>\n",
       "      <th>volatile acidity</th>\n",
       "    </tr>\n",
       "  </thead>\n",
       "  <tbody>\n",
       "    <tr>\n",
       "      <th>0</th>\n",
       "      <td>8.8</td>\n",
       "      <td>0.045</td>\n",
       "      <td>0.36</td>\n",
       "      <td>1.001</td>\n",
       "      <td>7.0</td>\n",
       "      <td>45.0</td>\n",
       "      <td>3.0</td>\n",
       "      <td>20.7</td>\n",
       "      <td>0.45</td>\n",
       "      <td>170.0</td>\n",
       "      <td>0.27</td>\n",
       "    </tr>\n",
       "  </tbody>\n",
       "</table>\n",
       "</div>"
      ],
      "text/plain": [
       "   alcohol  chlorides  citric acid  density  fixed acidity  \\\n",
       "0      8.8      0.045         0.36    1.001            7.0   \n",
       "\n",
       "   free sulfur dioxide   pH  residual sugar  sulphates  total sulfur dioxide  \\\n",
       "0                 45.0  3.0            20.7       0.45                 170.0   \n",
       "\n",
       "   volatile acidity  \n",
       "0              0.27  "
      ]
     },
     "execution_count": 61,
     "metadata": {},
     "output_type": "execute_result"
    }
   ],
   "source": [
    "with open(\"./wine_inputs.json\", \"rb\") as f:\n",
    "        json_data = json.load(f)\n",
    "df = pd.DataFrame({0: json_data}).transpose()\n",
    "df"
   ]
  },
  {
   "cell_type": "code",
   "execution_count": 1,
   "metadata": {},
   "outputs": [],
   "source": [
    "properties_name = [\"fixed acidity\", \"volatile acidity\", \"citric acid\", \"residual sugar\", \"chlorides\",\n",
    "                   \"free sulfur dioxide\", \"total sulfur dioxide\", \"density\", \"pH\", \"sulphates\", \"alcohol\"]"
   ]
  },
  {
   "cell_type": "code",
   "execution_count": 2,
   "metadata": {},
   "outputs": [
    {
     "data": {
      "text/plain": [
       "[[8.1, 0.27, 0.41, 1.45, 0.033, 11, 63, 0.9908, 2.99, 0.56, 12],\n",
       " [8.1, 0.27, 0.41, 1.45, 0.033, 11, 63, 0.9908, 2.99, 0.56, 12]]"
      ]
     },
     "execution_count": 2,
     "metadata": {},
     "output_type": "execute_result"
    }
   ],
   "source": [
    "json_data = [\n",
    "\t{\n",
    "\t  \"fixed acidity\": 8.1,\n",
    "\t  \"volatile acidity\": 0.27,\n",
    "\t  \"citric acid\": 0.41,\n",
    "\t  \"residual sugar\": 1.45,\n",
    "\t  \"chlorides\": 0.033,\n",
    "\t  \"free sulfur dioxide\": 11,\n",
    "\t  \"total sulfur dioxide\": 63,\n",
    "\t  \"density\": 0.9908,\n",
    "\t  \"pH\": 2.99,\n",
    "\t  \"sulphates\": 0.56,\n",
    "\t  \"alcohol\": 12\n",
    "\t},\n",
    "\t{\n",
    "\t  \"fixed acidity\": 8.1,\n",
    "\t  \"volatile acidity\": 0.27,\n",
    "\t  \"citric acid\": 0.41,\n",
    "\t  \"residual sugar\": 1.45,\n",
    "\t  \"chlorides\": 0.033,\n",
    "\t  \"free sulfur dioxide\": 11,\n",
    "\t  \"total sulfur dioxide\": 63,\n",
    "\t  \"density\": 0.9908,\n",
    "\t  \"pH\": 2.99,\n",
    "\t  \"sulphates\": 0.56,\n",
    "\t  \"alcohol\": 12\n",
    "\t}\n",
    "]\n",
    "\n",
    "arr = [list(d.values()) for d in json_data]\n",
    "arr"
   ]
  },
  {
   "cell_type": "code",
   "execution_count": null,
   "metadata": {},
   "outputs": [],
   "source": []
  },
  {
   "cell_type": "code",
   "execution_count": null,
   "metadata": {},
   "outputs": [],
   "source": []
  }
 ],
 "metadata": {
  "kernelspec": {
   "display_name": "Python 3",
   "language": "python",
   "name": "python3"
  },
  "language_info": {
   "codemirror_mode": {
    "name": "ipython",
    "version": 3
   },
   "file_extension": ".py",
   "mimetype": "text/x-python",
   "name": "python",
   "nbconvert_exporter": "python",
   "pygments_lexer": "ipython3",
   "version": "3.6.7"
  }
 },
 "nbformat": 4,
 "nbformat_minor": 2
}
